{
 "cells": [
  {
   "cell_type": "code",
   "execution_count": 1,
   "metadata": {},
   "outputs": [],
   "source": [
    "import cv2 as cv"
   ]
  },
  {
   "cell_type": "code",
   "execution_count": 2,
   "metadata": {},
   "outputs": [
    {
     "data": {
      "text/plain": [
       "25"
      ]
     },
     "execution_count": 2,
     "metadata": {},
     "output_type": "execute_result"
    }
   ],
   "source": [
    "cap = cv.VideoCapture('./Raw_Dataset/Dataset_Simulasi/00000000357000000.mp4')\n",
    "\n",
    "fps = int(cap.get(cv.CAP_PROP_FPS))\n",
    "fps"
   ]
  },
  {
   "cell_type": "code",
   "execution_count": 29,
   "metadata": {},
   "outputs": [],
   "source": [
    "def convert_video_to_frames(video_path, output_folder, interval=30):\n",
    "    # Open the video file\n",
    "    vidcap = cv.VideoCapture(video_path)\n",
    "\n",
    "    # Get the total number of frames and duration\n",
    "    total_frames = int(vidcap.get(cv.CAP_PROP_FRAME_COUNT))\n",
    "    duration = total_frames / vidcap.get(cv.CAP_PROP_FPS)\n",
    "\n",
    "    if duration == 0:\n",
    "        raise ValueError(\"Unable to determine video duration. Please check the video file.\")\n",
    "\n",
    "    # Calculate the frame interval in terms of frames\n",
    "    frame_interval = int(interval * total_frames / duration)\n",
    "\n",
    "    # Initialize variables\n",
    "    count = 0\n",
    "    frame_number = 461\n",
    "\n",
    "    # Read and save frames at the specified interval\n",
    "    while count < total_frames:\n",
    "        # Set the frame position to the current count\n",
    "        vidcap.set(cv.CAP_PROP_POS_FRAMES, count)\n",
    "        \n",
    "        # Read the frame\n",
    "        success, frame = vidcap.read()\n",
    "\n",
    "        if success:\n",
    "            # Save the frame to the output folder\n",
    "            frame_path = f\"{output_folder}/simulasi{frame_number}.png\"\n",
    "            cv.imwrite(frame_path, frame)\n",
    "            frame_number += 1\n",
    "        else:\n",
    "            print(f\"Error reading frame at count: {count}\")\n",
    "\n",
    "        # Increment the count by the frame interval\n",
    "        count += frame_interval\n",
    "\n",
    "    # Release the video file\n",
    "    vidcap.release()\n",
    "\n",
    "    print(\"Video frames extraction completed.\")\n",
    "\n"
   ]
  },
  {
   "cell_type": "code",
   "execution_count": 30,
   "metadata": {},
   "outputs": [
    {
     "name": "stdout",
     "output_type": "stream",
     "text": [
      "Video frames extraction completed.\n"
     ]
    }
   ],
   "source": [
    "import os\n",
    "  \n",
    "# Source path  \n",
    "video_path = './Raw_Dataset/Dataset_Simulasi/00000000367000000.mp4'\n",
    "\n",
    "# Output path\n",
    "directory = \"Simulasi\"\n",
    "parent_dir = \"./Anotate_Dataset/\"\n",
    "path = os.path.join(parent_dir, directory)\n",
    "# os.mkdir(path)\n",
    "output_folder = path\n",
    "\n",
    "convert_video_to_frames(video_path, output_folder, interval=15)"
   ]
  },
  {
   "cell_type": "code",
   "execution_count": 14,
   "metadata": {},
   "outputs": [
    {
     "data": {
      "text/plain": [
       "'./Anotate_Dataset/GeeksForGeeks'"
      ]
     },
     "execution_count": 14,
     "metadata": {},
     "output_type": "execute_result"
    }
   ],
   "source": [
    "path"
   ]
  }
 ],
 "metadata": {
  "kernelspec": {
   "display_name": "Python 3",
   "language": "python",
   "name": "python3"
  },
  "language_info": {
   "codemirror_mode": {
    "name": "ipython",
    "version": 3
   },
   "file_extension": ".py",
   "mimetype": "text/x-python",
   "name": "python",
   "nbconvert_exporter": "python",
   "pygments_lexer": "ipython3",
   "version": "3.9.7"
  },
  "orig_nbformat": 4
 },
 "nbformat": 4,
 "nbformat_minor": 2
}
